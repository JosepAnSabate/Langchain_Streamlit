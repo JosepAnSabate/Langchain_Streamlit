{
 "cells": [
  {
   "cell_type": "code",
   "execution_count": 6,
   "id": "962a7971",
   "metadata": {},
   "outputs": [
    {
     "data": {
      "text/plain": [
       "True"
      ]
     },
     "execution_count": 6,
     "metadata": {},
     "output_type": "execute_result"
    }
   ],
   "source": [
    "from langchain.llms import OpenAI\n",
    "from dotenv import load_dotenv\n",
    "\n",
    "load_dotenv()"
   ]
  },
  {
   "cell_type": "code",
   "execution_count": 6,
   "id": "c21c8d8a",
   "metadata": {},
   "outputs": [
    {
     "data": {
      "text/plain": [
       "True"
      ]
     },
     "execution_count": 6,
     "metadata": {},
     "output_type": "execute_result"
    }
   ],
   "source": [
    "from langchain.llms import OpenAI\n",
    "from dotenv import load_dotenv\n",
    "\n",
    "load_dotenv()"
   ]
  },
  {
   "cell_type": "markdown",
   "id": "e7e452b0",
   "metadata": {},
   "source": [
    "## First Step: Create a Response from a simple prompt"
   ]
  },
  {
   "cell_type": "code",
   "execution_count": null,
   "id": "6adae953",
   "metadata": {},
   "outputs": [],
   "source": [
    "from langchain.llms import OpenAI\n",
    "from dotenv import load_dotenv\n",
    "\n",
    "load_dotenv()"
   ]
  },
  {
   "cell_type": "code",
   "execution_count": 18,
   "id": "0bc7eb8b",
   "metadata": {},
   "outputs": [],
   "source": [
    "def generate_company_names():\n",
    "    llm = OpenAI(model='gpt-3.5-turbo-instruct', temperature=0.7)\n",
    "\n",
    "    name =  llm('I want a cool name for a tech company. Suggest my five')\n",
    "\n",
    "    return name\n"
   ]
  },
  {
   "cell_type": "code",
   "execution_count": 19,
   "id": "b266f933",
   "metadata": {},
   "outputs": [
    {
     "name": "stdout",
     "output_type": "stream",
     "text": [
      "\n",
      "\n",
      "1. NovaTech\n",
      "2. PixelForge\n",
      "3. Codeverse\n",
      "4. Innov8ify\n",
      "5. TechHive\n"
     ]
    }
   ],
   "source": [
    "print(generate_company_names())"
   ]
  },
  {
   "cell_type": "markdown",
   "id": "26688324",
   "metadata": {},
   "source": [
    "## Second step: Promp Templates"
   ]
  },
  {
   "cell_type": "code",
   "execution_count": 26,
   "id": "0016e2ed",
   "metadata": {},
   "outputs": [
    {
     "data": {
      "text/plain": [
       "True"
      ]
     },
     "execution_count": 26,
     "metadata": {},
     "output_type": "execute_result"
    }
   ],
   "source": [
    "from langchain.llms import OpenAI\n",
    "from langchain.prompts import PromptTemplate\n",
    "from langchain.chains import LLMChain\n",
    "from dotenv import load_dotenv\n",
    "\n",
    "load_dotenv()"
   ]
  },
  {
   "cell_type": "code",
   "execution_count": 29,
   "id": "285f76b9",
   "metadata": {},
   "outputs": [],
   "source": [
    "def generate_company_names(company_type, values):\n",
    "    llm = OpenAI(model='gpt-3.5-turbo-instruct', temperature=0.7)\n",
    "\n",
    "    prompt_template_name = PromptTemplate(\n",
    "        input_variables = ['company_type', 'values'],\n",
    "        template = \"\"\"I want a cool name for a company that \n",
    "                    works with {company_type}, and represent our values: \n",
    "                    {values}.\n",
    "                    Suggest my five\"\"\"\n",
    "    ) \n",
    "    \n",
    "    name_chain = LLMChain(llm=llm, prompt=prompt_template_name)\n",
    "    \n",
    "    response = name_chain({'company_type':company_type, 'values':values})\n",
    "\n",
    "    return response"
   ]
  },
  {
   "cell_type": "code",
   "execution_count": 30,
   "id": "21f0ed53",
   "metadata": {},
   "outputs": [
    {
     "name": "stdout",
     "output_type": "stream",
     "text": [
      "{'company_type': 'Wine cellar', 'values': 'Respect for the nature', 'text': '\\n\\n1. \"EcoVino Cellars\"\\n2. \"Sustainable Cellar Co.\"\\n3. \"Nature\\'s Reserve Wine Co.\"\\n4. \"Green Vineyard Ventures\"\\n5. \"Harmony Cellar Solutions\"'}\n"
     ]
    }
   ],
   "source": [
    "print(generate_company_names('Wine cellar', 'Respect for the nature'))"
   ]
  },
  {
   "cell_type": "code",
   "execution_count": 35,
   "id": "1259953b",
   "metadata": {},
   "outputs": [],
   "source": [
    "import streamlit as  st"
   ]
  },
  {
   "cell_type": "code",
   "execution_count": 37,
   "id": "48bc2c4a",
   "metadata": {},
   "outputs": [
    {
     "name": "stdout",
     "output_type": "stream",
     "text": [
      "Help on method multiselect in module streamlit.delta_generator:\n",
      "\n",
      "multiselect(label: str, options: Union[Iterable[~T], streamlit.type_util.DataFrameGenericAlias[~T]], default: Optional[Any] = None, format_func: Callable[[Any], Any] = <class 'str'>, key: Union[str, int, NoneType] = None, help: Optional[str] = None, on_change: Optional[Callable[..., NoneType]] = None, args: Optional[Tuple[Any, ...]] = None, kwargs: Optional[Dict[str, Any]] = None, *, max_selections: Optional[int] = None, placeholder: str = 'Choose an option', disabled: bool = False, label_visibility: typing_extensions.Literal['visible', 'hidden', 'collapsed'] = 'visible') -> List[~T] method of streamlit.delta_generator.DeltaGenerator instance\n",
      "    Display a multiselect widget.\n",
      "    The multiselect widget starts as empty.\n",
      "    \n",
      "    Parameters\n",
      "    ----------\n",
      "    label : str\n",
      "        A short label explaining to the user what this select widget is for.\n",
      "        The label can optionally contain Markdown and supports the following\n",
      "        elements: Bold, Italics, Strikethroughs, Inline Code, Emojis, and Links.\n",
      "    \n",
      "        This also supports:\n",
      "    \n",
      "        * Emoji shortcodes, such as ``:+1:``  and ``:sunglasses:``.\n",
      "          For a list of all supported codes,\n",
      "          see https://share.streamlit.io/streamlit/emoji-shortcodes.\n",
      "    \n",
      "        * LaTeX expressions, by wrapping them in \"$\" or \"$$\" (the \"$$\"\n",
      "          must be on their own lines). Supported LaTeX functions are listed\n",
      "          at https://katex.org/docs/supported.html.\n",
      "    \n",
      "        * Colored text, using the syntax ``:color[text to be colored]``,\n",
      "          where ``color`` needs to be replaced with any of the following\n",
      "          supported colors: blue, green, orange, red, violet, gray/grey, rainbow.\n",
      "    \n",
      "        Unsupported elements are unwrapped so only their children (text contents) render.\n",
      "        Display unsupported elements as literal characters by\n",
      "        backslash-escaping them. E.g. ``1\\. Not an ordered list``.\n",
      "    \n",
      "        For accessibility reasons, you should never set an empty label (label=\"\")\n",
      "        but hide it with label_visibility if needed. In the future, we may disallow\n",
      "        empty labels by raising an exception.\n",
      "    options : Iterable\n",
      "        Labels for the select options in an Iterable. For example, this can\n",
      "        be a list, numpy.ndarray, pandas.Series, pandas.DataFrame, or\n",
      "        pandas.Index. For pandas.DataFrame, the first column is used.\n",
      "        Each label will be cast to str internally by default.\n",
      "    default: Iterable of V, V, or None\n",
      "        List of default values. Can also be a single value.\n",
      "    format_func : function\n",
      "        Function to modify the display of selectbox options. It receives\n",
      "        the raw option as an argument and should output the label to be\n",
      "        shown for that option. This has no impact on the return value of\n",
      "        the multiselect.\n",
      "    key : str or int\n",
      "        An optional string or integer to use as the unique key for the widget.\n",
      "        If this is omitted, a key will be generated for the widget\n",
      "        based on its content. Multiple widgets of the same type may\n",
      "        not share the same key.\n",
      "    help : str\n",
      "        An optional tooltip that gets displayed next to the multiselect.\n",
      "    on_change : callable\n",
      "        An optional callback invoked when this multiselect's value changes.\n",
      "    args : tuple\n",
      "        An optional tuple of args to pass to the callback.\n",
      "    kwargs : dict\n",
      "        An optional dict of kwargs to pass to the callback.\n",
      "    max_selections : int\n",
      "        The max selections that can be selected at a time.\n",
      "    placeholder : str\n",
      "        A string to display when no options are selected. Defaults to 'Choose an option'.\n",
      "    disabled : bool\n",
      "        An optional boolean, which disables the multiselect widget if set\n",
      "        to True. The default is False. This argument can only be supplied\n",
      "        by keyword.\n",
      "    label_visibility : \"visible\", \"hidden\", or \"collapsed\"\n",
      "        The visibility of the label. If \"hidden\", the label doesn't show but there\n",
      "        is still empty space for it above the widget (equivalent to label=\"\").\n",
      "        If \"collapsed\", both the label and the space are removed. Default is\n",
      "        \"visible\".\n",
      "    \n",
      "    Returns\n",
      "    -------\n",
      "    list\n",
      "        A list with the selected options\n",
      "    \n",
      "    Example\n",
      "    -------\n",
      "    >>> import streamlit as st\n",
      "    >>>\n",
      "    >>> options = st.multiselect(\n",
      "    ...     'What are your favorite colors',\n",
      "    ...     ['Green', 'Yellow', 'Red', 'Blue'],\n",
      "    ...     ['Yellow', 'Red'])\n",
      "    >>>\n",
      "    >>> st.write('You selected:', options)\n",
      "    \n",
      "    .. output::\n",
      "       https://doc-multiselect.streamlit.app/\n",
      "       height: 420px\n",
      "\n"
     ]
    }
   ],
   "source": [
    "help(st.sidebar.multiselect)"
   ]
  },
  {
   "cell_type": "code",
   "execution_count": 39,
   "id": "be7c69f6",
   "metadata": {},
   "outputs": [],
   "source": [
    "st.sidebar.multiselect?"
   ]
  },
  {
   "cell_type": "code",
   "execution_count": null,
   "id": "cc5cc5a8",
   "metadata": {},
   "outputs": [],
   "source": []
  },
  {
   "cell_type": "code",
   "execution_count": null,
   "id": "3411db99",
   "metadata": {},
   "outputs": [],
   "source": []
  }
 ],
 "metadata": {
  "kernelspec": {
   "display_name": "Python 3 (ipykernel)",
   "language": "python",
   "name": "python3"
  },
  "language_info": {
   "codemirror_mode": {
    "name": "ipython",
    "version": 3
   },
   "file_extension": ".py",
   "mimetype": "text/x-python",
   "name": "python",
   "nbconvert_exporter": "python",
   "pygments_lexer": "ipython3",
   "version": "3.9.12"
  }
 },
 "nbformat": 4,
 "nbformat_minor": 5
}
