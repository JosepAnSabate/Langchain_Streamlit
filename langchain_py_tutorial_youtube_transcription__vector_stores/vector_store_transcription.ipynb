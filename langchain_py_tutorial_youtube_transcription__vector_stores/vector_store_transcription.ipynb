{
 "cells": [
  {
   "cell_type": "code",
   "execution_count": null,
   "id": "0ee1dc1b",
   "metadata": {
    "scrolled": true
   },
   "outputs": [],
   "source": [
    "from langchain.document_loaders import YoutubeLoader\n",
    "from langchain.text_splitter import RecursiveCharacterTextSplitter\n",
    "from langchain.llms import OpenAI\n",
    "from langchain.embeddings.openai import OpenAIEmbeddings\n",
    "from langchain.prompts import PromptTemplate\n",
    "from langchain.chains import LLMChain\n",
    "from langchain.vectorstores import FAISS\n",
    "\n",
    "\n",
    "from dotenv import load_dotenv\n",
    "\n",
    "load_dotenv()"
   ]
  },
  {
   "cell_type": "code",
   "execution_count": null,
   "id": "111e0666",
   "metadata": {},
   "outputs": [],
   "source": [
    "embeddings = OpenAIEmbeddings()\n",
    "\n",
    "video_url = 'https://www.youtube.com/watch?v=t9DNBxpvxs0'\n",
    "def create_vector_db_from_youtube_url(video_url: str) -> FAISS:\n",
    "    loader = YoutubeLoader.from_youtube_url(video_url)\n",
    "    transcript = loader.load()\n",
    "\n",
    "    text_splitter = RecursiveCharacterTextSplitter(\n",
    "        chunk_size=1000, # 1000 characters\n",
    "        chunk_overlap=100 # 100 characters overlap\n",
    "        )\n",
    "    \n",
    "    docs = text_splitter.split_documents(transcript)\n",
    "    \n",
    "    # vectore store\n",
    "    # https://python.langchain.com/docs/integrations/vectorstores/faiss\n",
    "\n",
    "    db = FAISS.from_documents(docs, embeddings)\n",
    "    return docs#db\n",
    "\n",
    "#print(create_vector_db_from_youtube_url(video_url))\n",
    "\n",
    "def get_response_from_query(db, query, k=4):\n",
    "    docs = db.similarity_search(query, k)\n",
    "    docs_page_content= \" \".join(\n",
    "        [d.page_content for d in docs]\n",
    "    )\n",
    "\n",
    "    llm = OpenAI(model='gpt-3.5-turbo-instruct')\n",
    "\n",
    "    prompt = PromptTemplate(\n",
    "        input_variables=['question', 'docs'],\n",
    "        template = \"\"\"\n",
    "        You're a helpfull youtube assistant who can answe questions \n",
    "        about the video based on the transcript.\n",
    "\n",
    "        Answer the following question: {question}\n",
    "        By searching the transcript of the video: {docs}\n",
    "\n",
    "        Only use the factual information from the transcription to answer.\n",
    "\n",
    "        If you feel like you can't answer the question, just say: I don't know.\n",
    "\n",
    "        Your answer should be detailed.\n",
    "        \"\"\"\n",
    "    )\n",
    "\n",
    "    chain = LLMChain(llm, prompt)\n",
    "\n",
    "    response = chain.run(\n",
    "        question=query, \n",
    "        docs=docs_page_content # d'on treu la info per respondre, transcript in db vectorstore\n",
    "        )\n",
    "    \n",
    "    response = response.replace('\\n', '')\n",
    "\n",
    "    return response"
   ]
  },
  {
   "cell_type": "code",
   "execution_count": null,
   "id": "1039e40d",
   "metadata": {},
   "outputs": [],
   "source": [
    "print(get_response_from_query(create_vector_db_from_youtube_url(video_url), \"Why Car Repairs Are Getting So Expensive?\"))"
   ]
  },
  {
   "cell_type": "code",
   "execution_count": null,
   "id": "23388435",
   "metadata": {},
   "outputs": [],
   "source": []
  },
  {
   "cell_type": "code",
   "execution_count": null,
   "id": "c6537518",
   "metadata": {},
   "outputs": [],
   "source": []
  }
 ],
 "metadata": {
  "kernelspec": {
   "display_name": "Python 3 (ipykernel)",
   "language": "python",
   "name": "python3"
  },
  "language_info": {
   "codemirror_mode": {
    "name": "ipython",
    "version": 3
   },
   "file_extension": ".py",
   "mimetype": "text/x-python",
   "name": "python",
   "nbconvert_exporter": "python",
   "pygments_lexer": "ipython3",
   "version": "3.9.12"
  }
 },
 "nbformat": 4,
 "nbformat_minor": 5
}
